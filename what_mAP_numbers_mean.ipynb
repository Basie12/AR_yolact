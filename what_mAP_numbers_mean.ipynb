{
 "cells": [
  {
   "cell_type": "markdown",
   "metadata": {},
   "source": [
    "We need to understand in detail the numbers we are using to evaluate the performance of YOLACT. These are computed inside eval.py using the APDataObject class. \n",
    "\n",
    "Here is the code for APDataObject, copied from eval.py:"
   ]
  },
  {
   "cell_type": "code",
   "execution_count": 58,
   "metadata": {},
   "outputs": [],
   "source": [
    "import pickle\n",
    "import numpy as np\n",
    "import matplotlib.pyplot as plt\n",
    "\n",
    "class APDataObject:\n",
    "    \"\"\"\n",
    "    Stores all the information necessary to calculate the AP for one IoU and one class.\n",
    "    Note: I type annotated this because why not.\n",
    "    \n",
    "    WJP: I added the classname arg to the init. Could be handy! \n",
    "    \"\"\"\n",
    "\n",
    "    def __init__(self, cname = None):\n",
    "        self.classname = cname\n",
    "        self.data_points = []\n",
    "        self.num_gt_positives = 0\n",
    "\n",
    "    def push(self, score:float, is_true:bool):\n",
    "        self.data_points.append((score, is_true))\n",
    "    \n",
    "    def add_gt_positives(self, num_positives:int):\n",
    "        \"\"\" Call this once per image. \"\"\"\n",
    "        self.num_gt_positives += num_positives\n",
    "\n",
    "    def is_empty(self) -> bool:\n",
    "        return len(self.data_points) == 0 and self.num_gt_positives == 0\n",
    "\n",
    "    def get_ap(self) -> float:\n",
    "        \"\"\" Warning: result not cached. \"\"\"\n",
    "\n",
    "        if self.num_gt_positives == 0:\n",
    "            return 0\n",
    "\n",
    "        # Sort descending by score\n",
    "        self.data_points.sort(key=lambda x: -x[0])\n",
    "\n",
    "        precisions = []\n",
    "        recalls    = []\n",
    "        num_true  = 0\n",
    "        num_false = 0\n",
    "\n",
    "        # Compute the precision-recall curve. The x axis is recalls and the y axis precisions.\n",
    "        for datum in self.data_points:\n",
    "            # datum[1] is whether the detection a true or false positive\n",
    "            if datum[1]: num_true += 1\n",
    "            else: num_false += 1\n",
    "            \n",
    "            precision = num_true / (num_true + num_false)\n",
    "            recall    = num_true / self.num_gt_positives\n",
    "\n",
    "            precisions.append(precision)\n",
    "            recalls.append(recall)\n",
    "\n",
    "        # Smooth the curve by computing [max(precisions[i:]) for i in range(len(precisions))]\n",
    "        # Basically, remove any temporary dips from the curve.\n",
    "        # At least that's what I think, idk. COCOEval did it so I do too.\n",
    "        for i in range(len(precisions)-1, 0, -1):\n",
    "            if precisions[i] > precisions[i-1]:\n",
    "                precisions[i-1] = precisions[i]\n",
    "\n",
    "        # Compute the integral of precision(recall) d_recall from recall=0->1 using fixed-length riemann summation with 101 bars.\n",
    "        y_range = [0] * 101 # idx 0 is recall == 0.0 and idx 100 is recall == 1.00\n",
    "        x_range = np.array([x / 100 for x in range(101)])\n",
    "        recalls = np.array(recalls)\n",
    "\n",
    "        # I realize this is weird, but all it does is find the nearest precision(x) for a given x in x_range.\n",
    "        # Basically, if the closest recall we have to 0.01 is 0.009 this sets precision(0.01) = precision(0.009).\n",
    "        # I approximate the integral this way, because that's how COCOEval does it.\n",
    "        indices = np.searchsorted(recalls, x_range, side='left')\n",
    "        for bar_idx, precision_idx in enumerate(indices):\n",
    "            if precision_idx < len(precisions):\n",
    "                y_range[bar_idx] = precisions[precision_idx]\n",
    "\n",
    "        # Finally compute the riemann sum to get our integral.\n",
    "        # avg([precision(x) for x in 0:0.01:1])\n",
    "        return sum(y_range) / len(y_range)\n",
    "\n"
   ]
  },
  {
   "cell_type": "code",
   "execution_count": 36,
   "metadata": {},
   "outputs": [
    {
     "name": "stdout",
     "output_type": "stream",
     "text": [
      "<class 'dict'>\n",
      "dict_keys(['box', 'mask'])\n"
     ]
    }
   ],
   "source": [
    "with open('./results/53560.txt','rb') as f:\n",
    "    apdump = pickle.load(f)\n",
    "\n",
    "print(type(apdump))\n",
    "print(apdump.keys())"
   ]
  },
  {
   "cell_type": "code",
   "execution_count": 44,
   "metadata": {},
   "outputs": [
    {
     "name": "stdout",
     "output_type": "stream",
     "text": [
      "<class 'list'> 10\n",
      "<class 'list'> 47\n",
      "<class '__main__.APDataObject'>\n"
     ]
    }
   ],
   "source": [
    "# apdump is a dict, with keys mask and box\n",
    "apbox = apdump['box']\n",
    "\n",
    "# each value is a list with 10 entries...recall bins? \n",
    "print(type(apbox), len(apbox))\n",
    "# each of the 10 entries is a list of APDataObjects, one APDataObject for each type of lab object\n",
    "print(type(apbox[0]), len(apbox[0]))\n",
    "print(type(apbox[0][0]))\n",
    "ap0 = apbox[0][0]\n"
   ]
  },
  {
   "cell_type": "markdown",
   "metadata": {},
   "source": [
    "The APDataObject class has some distinctive attributes (besides a bunch of regular python ones). These are:\n",
    "'add_gt_positives', 'data_points', 'get_ap', 'is_empty', 'num_gt_positives', and 'push'. \n",
    "\n",
    "There is one APDataObject for each type of lab object. \n",
    "\n",
    "I think data_points must contain something important! I think there is a data_point list item for each detection of the object type to which a give APDataObject pertains. "
   ]
  },
  {
   "cell_type": "code",
   "execution_count": 38,
   "metadata": {},
   "outputs": [
    {
     "name": "stdout",
     "output_type": "stream",
     "text": [
      "<class 'list'>\n",
      "491\n"
     ]
    },
    {
     "data": {
      "text/plain": [
       "[(5.093637082609348e-05, False),\n",
       " (2.6293258770238026e-07, False),\n",
       " (2.0173038137727417e-06, False),\n",
       " (1.2819658877560869e-05, False),\n",
       " (5.477535887621343e-05, False)]"
      ]
     },
     "execution_count": 38,
     "metadata": {},
     "output_type": "execute_result"
    }
   ],
   "source": [
    "print(type(ap0.data_points))\n",
    "print(len(ap0.data_points))\n",
    "\n",
    "ap0.data_points[42:47]"
   ]
  },
  {
   "cell_type": "markdown",
   "metadata": {},
   "source": [
    "Is the first number in the tuple the IoU value? How do we get numbers of order 1 out of this? \n",
    "\n"
   ]
  },
  {
   "cell_type": "code",
   "execution_count": 39,
   "metadata": {},
   "outputs": [
    {
     "name": "stdout",
     "output_type": "stream",
     "text": [
      "<class 'tuple'>\n",
      "2\n",
      "<class 'numpy.float64'>\n",
      "<class 'bool'>\n"
     ]
    }
   ],
   "source": [
    "print(type(ap0.data_points[0]))\n",
    "print(len(ap0.data_points[0]))\n",
    "print(type(ap0.data_points[0][0]))\n",
    "print(type(ap0.data_points[0][1]))"
   ]
  },
  {
   "cell_type": "code",
   "execution_count": 40,
   "metadata": {},
   "outputs": [
    {
     "data": {
      "text/plain": [
       "1.0"
      ]
     },
     "execution_count": 40,
     "metadata": {},
     "output_type": "execute_result"
    }
   ],
   "source": [
    "ap0.get_ap()\n"
   ]
  },
  {
   "cell_type": "code",
   "execution_count": 29,
   "metadata": {},
   "outputs": [],
   "source": [
    "def f(stuff):\n",
    "    stuff.append('junk')\n",
    "    return\n",
    "    "
   ]
  },
  {
   "cell_type": "code",
   "execution_count": 33,
   "metadata": {},
   "outputs": [
    {
     "name": "stdout",
     "output_type": "stream",
     "text": [
      "2160725842568\n",
      "2160725842568\n",
      "140722273934560\n",
      "[1, 2, 3, 'junk']\n",
      "None\n"
     ]
    }
   ],
   "source": [
    "crap = [1,2,3]\n",
    "print(id(crap))\n",
    "foo = f(crap)\n",
    "print(id(crap))\n",
    "print(id(foo))\n",
    "print(crap)\n",
    "print(foo)"
   ]
  },
  {
   "cell_type": "markdown",
   "metadata": {},
   "source": [
    "I added classname to the APDataObject. I guess I should re-paste the code above! \n"
   ]
  },
  {
   "cell_type": "code",
   "execution_count": 48,
   "metadata": {},
   "outputs": [],
   "source": [
    "with open('./results/ap_data.pkl','rb') as f:\n",
    "    apd = pickle.load(f)\n",
    "\n"
   ]
  },
  {
   "cell_type": "code",
   "execution_count": 50,
   "metadata": {},
   "outputs": [],
   "source": [
    "classes = [apo.classname for apo in apd['mask'][0]]"
   ]
  },
  {
   "cell_type": "code",
   "execution_count": 51,
   "metadata": {},
   "outputs": [
    {
     "data": {
      "text/plain": [
       "['person',\n",
       " 'bicycle',\n",
       " 'car',\n",
       " 'motorcycle',\n",
       " 'airplane',\n",
       " 'bus',\n",
       " 'train',\n",
       " 'truck',\n",
       " 'boat',\n",
       " 'traffic light',\n",
       " 'fire hydrant',\n",
       " 'stop sign',\n",
       " 'parking meter',\n",
       " 'bench',\n",
       " 'bird',\n",
       " 'cat',\n",
       " 'dog',\n",
       " 'horse',\n",
       " 'sheep',\n",
       " 'cow',\n",
       " 'elephant',\n",
       " 'bear',\n",
       " 'zebra',\n",
       " 'giraffe',\n",
       " 'backpack',\n",
       " 'umbrella',\n",
       " 'handbag',\n",
       " 'tie',\n",
       " 'suitcase',\n",
       " 'frisbee',\n",
       " 'skis',\n",
       " 'snowboard',\n",
       " 'sports ball',\n",
       " 'kite',\n",
       " 'baseball bat',\n",
       " 'baseball glove',\n",
       " 'skateboard',\n",
       " 'surfboard',\n",
       " 'tennis racket',\n",
       " 'bottle',\n",
       " 'wine glass',\n",
       " 'cup',\n",
       " 'fork',\n",
       " 'knife',\n",
       " 'spoon',\n",
       " 'bowl',\n",
       " 'banana',\n",
       " 'apple',\n",
       " 'sandwich',\n",
       " 'orange',\n",
       " 'broccoli',\n",
       " 'carrot',\n",
       " 'hot dog',\n",
       " 'pizza',\n",
       " 'donut',\n",
       " 'cake',\n",
       " 'chair',\n",
       " 'couch',\n",
       " 'potted plant',\n",
       " 'bed',\n",
       " 'dining table',\n",
       " 'toilet',\n",
       " 'tv',\n",
       " 'laptop',\n",
       " 'mouse',\n",
       " 'remote',\n",
       " 'keyboard',\n",
       " 'cell phone',\n",
       " 'microwave',\n",
       " 'oven',\n",
       " 'toaster',\n",
       " 'sink',\n",
       " 'refrigerator',\n",
       " 'book',\n",
       " 'clock',\n",
       " 'vase',\n",
       " 'scissors',\n",
       " 'teddy bear',\n",
       " 'hair drier',\n",
       " 'toothbrush']"
      ]
     },
     "execution_count": 51,
     "metadata": {},
     "output_type": "execute_result"
    }
   ],
   "source": [
    "classes"
   ]
  },
  {
   "cell_type": "code",
   "execution_count": 56,
   "metadata": {},
   "outputs": [
    {
     "data": {
      "text/plain": [
       "80"
      ]
     },
     "execution_count": 56,
     "metadata": {},
     "output_type": "execute_result"
    }
   ],
   "source": [
    "len(apd['mask'][9])"
   ]
  },
  {
   "cell_type": "code",
   "execution_count": 71,
   "metadata": {},
   "outputs": [],
   "source": [
    "PvsRmask = []\n",
    "PvsRbox = []\n",
    "\n",
    "for j in range(80):\n",
    "    PvsRmask.append(np.asarray([apd['mask'][i][j].get_ap() for i in range(10)]))\n",
    "    PvsRbox.append(np.asarray([apd['box'][i][j].get_ap() for i in range(10)]))"
   ]
  },
  {
   "cell_type": "code",
   "execution_count": 73,
   "metadata": {},
   "outputs": [
    {
     "data": {
      "text/plain": [
       "[<matplotlib.lines.Line2D at 0x1f740ccbc08>,\n",
       " <matplotlib.lines.Line2D at 0x1f7139cab08>,\n",
       " <matplotlib.lines.Line2D at 0x1f7139cde08>,\n",
       " <matplotlib.lines.Line2D at 0x1f713a51048>,\n",
       " <matplotlib.lines.Line2D at 0x1f7139c5a08>,\n",
       " <matplotlib.lines.Line2D at 0x1f7139c56c8>,\n",
       " <matplotlib.lines.Line2D at 0x1f7139afb08>,\n",
       " <matplotlib.lines.Line2D at 0x1f71964fa88>,\n",
       " <matplotlib.lines.Line2D at 0x1f7139c5e48>,\n",
       " <matplotlib.lines.Line2D at 0x1f7139c53c8>]"
      ]
     },
     "execution_count": 73,
     "metadata": {},
     "output_type": "execute_result"
    },
    {
     "data": {
      "image/png": "[encoded data removed]",
      "text/plain": [
       "<Figure size 432x288 with 1 Axes>"
      ]
     },
     "metadata": {
      "needs_background": "light"
     },
     "output_type": "display_data"
    }
   ],
   "source": [
    "plt.plot(PvsRbox[3:5])"
   ]
  },
  {
   "cell_type": "code",
   "execution_count": 82,
   "metadata": {},
   "outputs": [],
   "source": [
    "boxsum = np.zeros((10,))\n",
    "for j in range(80):\n",
    "    boxsum = boxsum + PvsRbox[j]/80.0"
   ]
  },
  {
   "cell_type": "code",
   "execution_count": 83,
   "metadata": {},
   "outputs": [
    {
     "data": {
      "text/plain": [
       "array([0.49399848, 0.47109325, 0.44333414, 0.40908616, 0.36776282,\n",
       "       0.31463857, 0.24283732, 0.16064792, 0.06755672, 0.0076687 ])"
      ]
     },
     "execution_count": 83,
     "metadata": {},
     "output_type": "execute_result"
    }
   ],
   "source": [
    "boxsum"
   ]
  },
  {
   "cell_type": "code",
   "execution_count": null,
   "metadata": {},
   "outputs": [],
   "source": []
  }
 ],
 "metadata": {
  "kernelspec": {
   "display_name": "Python 3",
   "language": "python",
   "name": "python3"
  },
  "language_info": {
   "codemirror_mode": {
    "name": "ipython",
    "version": 3
   },
   "file_extension": ".py",
   "mimetype": "text/x-python",
   "name": "python",
   "nbconvert_exporter": "python",
   "pygments_lexer": "ipython3",
   "version": "3.7.6"
  }
 },
 "nbformat": 4,
 "nbformat_minor": 2
}
